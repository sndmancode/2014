{
  "nbformat": 4,
  "nbformat_minor": 0,
  "metadata": {
    "colab": {
      "name": "PROD_cloud_native_hardware_ai_platform.ipynb",
      "version": "0.3.2",
      "provenance": [],
      "collapsed_sections": [
        "4h6NFsfUOaUc",
        "R5isI0xa6WLh",
        "omSTDQwaCftQ"
      ],
      "include_colab_link": true
    }
  },
  "cells": [
    {
      "cell_type": "markdown",
      "metadata": {
        "id": "view-in-github",
        "colab_type": "text"
      },
      "source": [
        "[View in Colaboratory](https://colab.research.google.com/github/sndmancode/2014/blob/master/PROD_cloud_native_hardware_ai_platform.ipynb)"
      ]
    },
    {
      "metadata": {
        "id": "Hat17x80OVRW",
        "colab_type": "text"
      },
      "cell_type": "markdown",
      "source": [
        "# Managed Machine Learning Systems and Internet of Things\n",
        "\n",
        "![hero](https://user-images.githubusercontent.com/58792/45260894-08e67a00-b3a8-11e8-941f-e539cb10f8e1.jpg)"
      ]
    },
    {
      "metadata": {
        "id": "4h6NFsfUOaUc",
        "colab_type": "text"
      },
      "cell_type": "markdown",
      "source": [
        "## Pragmatic AI Labs\n",
        "\n"
      ]
    },
    {
      "metadata": {
        "id": "kaAAnCxZTerK",
        "colab_type": "text"
      },
      "cell_type": "markdown",
      "source": [
        "![alt text](https://paiml.com/images/logo_with_slogan_white_background.png)\n",
        "\n"
      ]
    },
    {
      "metadata": {
        "id": "ELi2P3zcBWu-",
        "colab_type": "text"
      },
      "cell_type": "markdown",
      "source": [
        "This notebook was produced by [Pragmatic AI Labs](https://paiml.com/).  You can continue learning about these topics by:\n",
        "\n",
        "*   Buying a copy of [Pragmatic AI: An Introduction to Cloud-Based Machine Learning](http://www.informit.com/store/pragmatic-ai-an-introduction-to-cloud-based-machine-9780134863917)\n",
        "*   Reading an online copy of [Pragmatic AI:Pragmatic AI: An Introduction to Cloud-Based Machine Learning](https://www.safaribooksonline.com/library/view/pragmatic-ai-an/9780134863924/)\n",
        "*  Watching video [Essential Machine Learning and AI with Python and Jupyter Notebook-Video-SafariOnline](https://www.safaribooksonline.com/videos/essential-machine-learning/9780135261118) on Safari Books Online.\n",
        "* Purchasing video [Essential Machine Learning and AI with Python and Jupyter Notebook- Purchase Video](http://www.informit.com/store/essential-machine-learning-and-ai-with-python-and-jupyter-9780135261095)\n",
        "*   Viewing more content at [noahgift.com](https://noahgift.com/)"
      ]
    },
    {
      "metadata": {
        "id": "jVxkbCuXOZbg",
        "colab_type": "code",
        "colab": {}
      },
      "cell_type": "code",
      "source": [
        "\n"
      ],
      "execution_count": 0,
      "outputs": []
    },
    {
      "metadata": {
        "id": "u491aIb_3cWE",
        "colab_type": "text"
      },
      "cell_type": "markdown",
      "source": [
        "## Cloud-Native Hardware AI Platforms\n",
        "\n",
        "\n",
        "**Key Traits**\n",
        "\n",
        "\n",
        "\n",
        "*   **ASIC:  ** - Example:  GPU (NVidia)\n",
        "*   **Managed ML Platform:  ** - Example:  AWS Sagemaker\n",
        "*   **IoT** - Example:  AWS Greengrass\n",
        "*  **Realtime Feedback loop**\n",
        "*  **Serverless**\n",
        "\n",
        "\n",
        "\n"
      ]
    },
    {
      "metadata": {
        "id": "yylxGK6_3c7u",
        "colab_type": "text"
      },
      "cell_type": "markdown",
      "source": [
        "**Sections**\n",
        "\n",
        "\n",
        "\n",
        "*   [AWS DeepLense](https://colab.research.google.com/drive/1KmBBSJTju3xgVzFuzGcfTlXMzJIDofH6#scrollTo=R5isI0xa6WLh)\n",
        "\n",
        "\n"
      ]
    },
    {
      "metadata": {
        "id": "R5isI0xa6WLh",
        "colab_type": "text"
      },
      "cell_type": "markdown",
      "source": [
        "### AWS DeepLense"
      ]
    },
    {
      "metadata": {
        "id": "Sf9KKzOC6v3l",
        "colab_type": "text"
      },
      "cell_type": "markdown",
      "source": [
        "![DeepLense](https://user-images.githubusercontent.com/58792/45271141-8d450580-b459-11e8-8c6f-8bd6158e6df9.jpg)\n",
        "\n",
        "[DeepLense](https://aws.amazon.com/deeplens/) has three modes:\n",
        "\n",
        "\n",
        "*  [Create and Deploy a Deep Learning Project onto AWS DeepLens](https://youtu.be/-JDLpSsO45A)\n",
        "*  [Extend a Deep Learning Project](https://youtu.be/PbQO3-jYkGo)\n",
        "*  [Building an AWS DeepLense Project using Amazon Sagemaker](https://youtu.be/cTsCMTxEPHs)\n",
        "\n"
      ]
    },
    {
      "metadata": {
        "id": "AEmkGfXoA3B5",
        "colab_type": "text"
      },
      "cell_type": "markdown",
      "source": [
        "#### DeepLense Resources\n",
        "\n",
        "AWS Deeplense Console has three main Resources:\n",
        "\n",
        "\n",
        "*   *DeepLense Projects:*\n",
        "\n",
        "This is where a project templates or a new blank project are selected.\n",
        "\n",
        "*   *Devices*\n",
        "\n",
        "Section to register DeepLens devices\n",
        "\n",
        "*   *Models*\n",
        "\n",
        "Shows existing models and also allows import from Sagemaker or externally trained model\n",
        "\n"
      ]
    },
    {
      "metadata": {
        "id": "8LbeymFSjJMj",
        "colab_type": "text"
      },
      "cell_type": "markdown",
      "source": [
        "#### Live DeepLense Demo\n",
        "\n",
        "\n",
        "**Items Covered**\n",
        "\n",
        "*   *Setup and Deploy*\n",
        "\n",
        "DeepLense device is registered and a Deep Learning model is deployed.\n",
        "\n",
        "\n",
        "*   *Live Object Detection*\n",
        "\n",
        "Browser connects to video stream of device and displays real-time matchs\n",
        "\n",
        "\n",
        "![alt text](https://user-images.githubusercontent.com/58792/45308029-688e7380-b4d5-11e8-8ffb-9422184c274c.png)\n",
        "\n",
        "*   *MQTT messages (AWS IoT)*\n",
        "\n",
        "  - Objects detected are given a probability and sent as IoT messages.\n",
        "\n",
        "  - https://docs.aws.amazon.com/iot/latest/developerguide/view-mqtt-messages.html\n",
        "\n",
        "![MQTT](https://user-images.githubusercontent.com/58792/45307777-bfe01400-b4d4-11e8-88a3-149317f9dffc.png)\n",
        "\n",
        "\n"
      ]
    },
    {
      "metadata": {
        "id": "omSTDQwaCftQ",
        "colab_type": "text"
      },
      "cell_type": "markdown",
      "source": [
        "## References\n",
        "\n",
        "\n"
      ]
    },
    {
      "metadata": {
        "id": "WTnGwrerAdYI",
        "colab_type": "text"
      },
      "cell_type": "markdown",
      "source": [
        "\n",
        "*   [Pragmatic AI: An Introduction to Cloud-Based Machine Learning-Physical Book](http://www.informit.com/store/pragmatic-ai-an-introduction-to-cloud-based-machine-9780134863917)\n",
        "*   [Pragmatic AI: Pragmatic AI: An Introduction to Cloud-Based Machine Learning-SafariOnline Book](https://www.safaribooksonline.com/library/view/pragmatic-ai-an/9780134863924/)\n",
        "*  [Essential Machine Learning and AI with Python and Jupyter Notebook-Video-SafariOnline](https://www.safaribooksonline.com/videos/essential-machine-learning/9780135261118)\n",
        "* [Essential Machine Learning and AI with Python and Jupyter Notebook- Purchase Video](http://www.informit.com/store/essential-machine-learning-and-ai-with-python-and-jupyter-9780135261095)\n",
        "*  [noahgift.com](https://noahgift.com/)\n",
        "*  [paiml.com](https://paiml.com/)\n",
        "*  https://storage.googleapis.com/nexttpu/index.html\n",
        "* https://riscv.org/wp-content/uploads/2017/05/Mon0915-RISC-V-50-Years-Computer-Arch.pdf\n",
        "* https://software.intel.com/en-us/ai-academy/devcloud\n",
        "\n"
      ]
    }
  ]
}