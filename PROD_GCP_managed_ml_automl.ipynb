{
  "nbformat": 4,
  "nbformat_minor": 0,
  "metadata": {
    "colab": {
      "name": "PROD_GCP_managed_ml_automl.ipynb",
      "version": "0.3.2",
      "provenance": [],
      "collapsed_sections": [],
      "include_colab_link": true
    }
  },
  "cells": [
    {
      "cell_type": "markdown",
      "metadata": {
        "id": "view-in-github",
        "colab_type": "text"
      },
      "source": [
        "[View in Colaboratory](https://colab.research.google.com/github/sndmancode/2014/blob/master/PROD_GCP_managed_ml_automl.ipynb)"
      ]
    },
    {
      "metadata": {
        "id": "Hat17x80OVRW",
        "colab_type": "text"
      },
      "cell_type": "markdown",
      "source": [
        "# Managed Machine Learning Systems and Internet of Things\n",
        "\n",
        "![hero](https://user-images.githubusercontent.com/58792/45260894-08e67a00-b3a8-11e8-941f-e539cb10f8e1.jpg)"
      ]
    },
    {
      "metadata": {
        "id": "4h6NFsfUOaUc",
        "colab_type": "text"
      },
      "cell_type": "markdown",
      "source": [
        "## Pragmatic AI Labs\n",
        "\n"
      ]
    },
    {
      "metadata": {
        "id": "kaAAnCxZTerK",
        "colab_type": "text"
      },
      "cell_type": "markdown",
      "source": [
        "![alt text](https://paiml.com/images/logo_with_slogan_white_background.png)\n",
        "\n",
        "This notebook was produced by [Pragmatic AI Labs](https://paiml.com/).  You can continue learning about these topics by:\n",
        "\n",
        "*   Buying a copy of [Pragmatic AI: An Introduction to Cloud-Based Machine Learning](http://www.informit.com/store/pragmatic-ai-an-introduction-to-cloud-based-machine-9780134863917)\n",
        "*   Reading an online copy of [Pragmatic AI:Pragmatic AI: An Introduction to Cloud-Based Machine Learning](https://www.safaribooksonline.com/library/view/pragmatic-ai-an/9780134863924/)\n",
        "*  Watching video [Essential Machine Learning and AI with Python and Jupyter Notebook-Video-SafariOnline](https://www.safaribooksonline.com/videos/essential-machine-learning/9780135261118) on Safari Books Online.\n",
        "* Purchasing video [Essential Machine Learning and AI with Python and Jupyter Notebook- Purchase Video](http://www.informit.com/store/essential-machine-learning-and-ai-with-python-and-jupyter-9780135261095)\n",
        "*   Viewing more content at [noahgift.com](https://noahgift.com/)"
      ]
    },
    {
      "metadata": {
        "id": "jVxkbCuXOZbg",
        "colab_type": "code",
        "colab": {}
      },
      "cell_type": "code",
      "source": [
        ""
      ],
      "execution_count": 0,
      "outputs": []
    },
    {
      "metadata": {
        "id": "lEr3vxxDh1xY",
        "colab_type": "text"
      },
      "cell_type": "markdown",
      "source": [
        "# GCP Managed and AutoML\n",
        "\n",
        "**Sections**\n",
        "\n",
        "\n",
        "\n",
        "*   [Overview](https://colab.research.google.com/drive/1wXCFKRtUj633zU0lnVfUy5qqRIXjLJR2#scrollTo=clBbP1yD182S&line=3&uniqifier=1)\n",
        "*   [GCP AutoML](https://colab.research.google.com/drive/1wXCFKRtUj633zU0lnVfUy5qqRIXjLJR2#scrollTo=ggjuE4es7SDH)\n",
        "*   [GCP Cloud Machine Learning Engine](https://colab.research.google.com/drive/1wXCFKRtUj633zU0lnVfUy5qqRIXjLJR2#scrollTo=almi4kRK7meW&line=3&uniqifier=1)\n",
        "*   [GCP BigQuery ML](https://colab.research.google.com/drive/1wXCFKRtUj633zU0lnVfUy5qqRIXjLJR2#scrollTo=L8MzSbE7Ej3a)\n",
        "*   [References](https://colab.research.google.com/drive/1wXCFKRtUj633zU0lnVfUy5qqRIXjLJR2#scrollTo=rNLiUbJbh9Ch&line=2&uniqifier=1)\n",
        "\n"
      ]
    },
    {
      "metadata": {
        "id": "clBbP1yD182S",
        "colab_type": "text"
      },
      "cell_type": "markdown",
      "source": [
        "## Overview\n",
        "\n",
        "Auto and Managed ML Services on GCP\n",
        "\n",
        "*   GCP AutoML\n",
        "*   GCP Cloud ML Engineoverview)\n",
        "*   GCP BigQuery ML\n",
        "\n"
      ]
    },
    {
      "metadata": {
        "id": "g447nXQhfdfl",
        "colab_type": "code",
        "colab": {}
      },
      "cell_type": "code",
      "source": [
        ""
      ],
      "execution_count": 0,
      "outputs": []
    },
    {
      "metadata": {
        "id": "ggjuE4es7SDH",
        "colab_type": "text"
      },
      "cell_type": "markdown",
      "source": [
        "## GCP AutoML\n",
        "\n",
        "\n",
        "\n",
        "\n"
      ]
    },
    {
      "metadata": {
        "id": "ydR9SXDKAXvk",
        "colab_type": "text"
      },
      "cell_type": "markdown",
      "source": [
        "![GCP AutoML](https://user-images.githubusercontent.com/58792/45260264-134c4800-b397-11e8-9832-fd56a8eeaa3c.png)\n",
        "\n",
        "\n",
        "**[GCP AutoML Products](https://cloud.google.com/automl/)**\n",
        "\n",
        "*  [AutoML Vision](https://cloud.google.com/vision/automl/docs/)\n",
        "*  [AutoML Natural Language](https://cloud.google.com/natural-language/automl/docs/)\n",
        "*  [AutoML Translation](https://cloud.google.com/translate/automl/docs/)\n"
      ]
    },
    {
      "metadata": {
        "id": "QYU7DysIifKH",
        "colab_type": "text"
      },
      "cell_type": "markdown",
      "source": [
        "### GCP AutoML Demo\n"
      ]
    },
    {
      "metadata": {
        "id": "MAtZVZgRin7e",
        "colab_type": "text"
      },
      "cell_type": "markdown",
      "source": [
        "Training to recognize flowers\n",
        "\n",
        "![upload_data](https://user-images.githubusercontent.com/58792/45438280-94dbf880-b66b-11e8-850d-e7d2a32c45c8.png)\n",
        "\n",
        "![train](https://user-images.githubusercontent.com/58792/45438281-94dbf880-b66b-11e8-9951-80202c581b0c.png)\n",
        "\n",
        "![predict](https://user-images.githubusercontent.com/58792/45439236-1fbdf280-b66e-11e8-9f51-d92d26a63c64.png)"
      ]
    },
    {
      "metadata": {
        "id": "almi4kRK7meW",
        "colab_type": "text"
      },
      "cell_type": "markdown",
      "source": [
        "## GCP Cloud Machine Learning Engine\n",
        "\n",
        "\n",
        "\n"
      ]
    },
    {
      "metadata": {
        "id": "eSojjJzZAlmZ",
        "colab_type": "text"
      },
      "cell_type": "markdown",
      "source": [
        "[GCP Cloud Machine Learning Engine](https://cloud.google.com/ml-engine/)\n",
        "\n",
        "![CloudML Engine](https://user-images.githubusercontent.com/58792/45260397-a6877c80-b39b-11e8-8faf-8654a0be4a40.png)"
      ]
    },
    {
      "metadata": {
        "id": "DbH4Wjsx7meX",
        "colab_type": "code",
        "colab": {}
      },
      "cell_type": "code",
      "source": [
        ""
      ],
      "execution_count": 0,
      "outputs": []
    },
    {
      "metadata": {
        "id": "L8MzSbE7Ej3a",
        "colab_type": "text"
      },
      "cell_type": "markdown",
      "source": [
        "## GCP BigQuery ML\n",
        "\n",
        "\n",
        "\n"
      ]
    },
    {
      "metadata": {
        "id": "VRrqUXDzEj3b",
        "colab_type": "text"
      },
      "cell_type": "markdown",
      "source": [
        "[GCP BigQuery ML](https://cloud.google.com/bigquery/)\n",
        "\n",
        "![Big Query](https://user-images.githubusercontent.com/58792/45260364-bf436280-b39a-11e8-9689-87217278a5d4.png)"
      ]
    },
    {
      "metadata": {
        "id": "6MlqgUS1Ej3c",
        "colab_type": "code",
        "colab": {}
      },
      "cell_type": "code",
      "source": [
        ""
      ],
      "execution_count": 0,
      "outputs": []
    },
    {
      "metadata": {
        "id": "rNLiUbJbh9Ch",
        "colab_type": "text"
      },
      "cell_type": "markdown",
      "source": [
        "## References\n"
      ]
    },
    {
      "metadata": {
        "id": "fkfk6yssiA7O",
        "colab_type": "text"
      },
      "cell_type": "markdown",
      "source": [
        "*   [Pragmatic AI: An Introduction to Cloud-Based Machine Learning-Physical Book](http://www.informit.com/store/pragmatic-ai-an-introduction-to-cloud-based-machine-9780134863917)\n",
        "*   [Pragmatic AI: Pragmatic AI: An Introduction to Cloud-Based Machine Learning-SafariOnline Book](https://www.safaribooksonline.com/library/view/pragmatic-ai-an/9780134863924/)\n",
        "*  [Essential Machine Learning and AI with Python and Jupyter Notebook-Video-SafariOnline](https://www.safaribooksonline.com/videos/essential-machine-learning/9780135261118)\n",
        "* [Essential Machine Learning and AI with Python and Jupyter Notebook- Purchase Video](http://www.informit.com/store/essential-machine-learning-and-ai-with-python-and-jupyter-9780135261095)\n",
        "*  [noahgift.com](https://noahgift.com/)\n",
        "*  [paiml.com](https://paiml.com/)\n",
        "*  [Data Science on the Google Cloud Platform](https://www.safaribooksonline.com/library/view/data-science-on/9781491974551/)\n"
      ]
    },
    {
      "metadata": {
        "id": "Mh3-LClRh-8W",
        "colab_type": "code",
        "colab": {}
      },
      "cell_type": "code",
      "source": [
        ""
      ],
      "execution_count": 0,
      "outputs": []
    }
  ]
}