{
  "nbformat": 4,
  "nbformat_minor": 0,
  "metadata": {
    "colab": {
      "name": "PROD_AWS_managed_ml_automl.ipynb",
      "version": "0.3.2",
      "provenance": [],
      "collapsed_sections": [
        "Hat17x80OVRW",
        "clBbP1yD182S"
      ],
      "include_colab_link": true
    }
  },
  "cells": [
    {
      "cell_type": "markdown",
      "metadata": {
        "id": "view-in-github",
        "colab_type": "text"
      },
      "source": [
        "[View in Colaboratory](https://colab.research.google.com/github/sndmancode/2014/blob/master/PROD_AWS_managed_ml_automl.ipynb)"
      ]
    },
    {
      "metadata": {
        "id": "Hat17x80OVRW",
        "colab_type": "text"
      },
      "cell_type": "markdown",
      "source": [
        "# Managed Machine Learning Systems and Internet of Things\n",
        "\n",
        "![hero](https://user-images.githubusercontent.com/58792/45260894-08e67a00-b3a8-11e8-941f-e539cb10f8e1.jpg)"
      ]
    },
    {
      "metadata": {
        "id": "4h6NFsfUOaUc",
        "colab_type": "text"
      },
      "cell_type": "markdown",
      "source": [
        "## Pragmatic AI Labs\n",
        "\n"
      ]
    },
    {
      "metadata": {
        "id": "kaAAnCxZTerK",
        "colab_type": "text"
      },
      "cell_type": "markdown",
      "source": [
        "![alt text](https://paiml.com/images/logo_with_slogan_white_background.png)\n",
        "\n",
        "This notebook was produced by [Pragmatic AI Labs](https://paiml.com/).  You can continue learning about these topics by:\n",
        "\n",
        "*   Buying a copy of [Pragmatic AI: An Introduction to Cloud-Based Machine Learning](http://www.informit.com/store/pragmatic-ai-an-introduction-to-cloud-based-machine-9780134863917)\n",
        "*   Reading an online copy of [Pragmatic AI:Pragmatic AI: An Introduction to Cloud-Based Machine Learning](https://www.safaribooksonline.com/library/view/pragmatic-ai-an/9780134863924/)\n",
        "*  Watching video [Essential Machine Learning and AI with Python and Jupyter Notebook-Video-SafariOnline](https://www.safaribooksonline.com/videos/essential-machine-learning/9780135261118) on Safari Books Online.\n",
        "* Purchasing video [Essential Machine Learning and AI with Python and Jupyter Notebook- Purchase Video](http://www.informit.com/store/essential-machine-learning-and-ai-with-python-and-jupyter-9780135261095)\n",
        "*   Viewing more content at [noahgift.com](https://noahgift.com/)"
      ]
    },
    {
      "metadata": {
        "id": "jVxkbCuXOZbg",
        "colab_type": "code",
        "colab": {}
      },
      "cell_type": "code",
      "source": [
        ""
      ],
      "execution_count": 0,
      "outputs": []
    },
    {
      "metadata": {
        "id": "lEr3vxxDh1xY",
        "colab_type": "text"
      },
      "cell_type": "markdown",
      "source": [
        "# AWS Managed and AutoML\n",
        "\n",
        "**Sections**\n",
        "\n",
        "\n",
        "\n",
        "*   [Overview](https://colab.research.google.com/drive/1vSjIfoPbekC6Y7IMioazgI7ZBK1exNfa#scrollTo=clBbP1yD182S&line=10&uniqifier=1)\n",
        "\n",
        "*   [References](https://colab.research.google.com/drive/1vSjIfoPbekC6Y7IMioazgI7ZBK1exNfa#scrollTo=rNLiUbJbh9Ch)\n",
        "\n"
      ]
    },
    {
      "metadata": {
        "id": "clBbP1yD182S",
        "colab_type": "text"
      },
      "cell_type": "markdown",
      "source": [
        "## Overview\n",
        "\n",
        "Auto and Managed ML Services on AWS \n",
        "\n",
        "*   AWS Sagemaker\n",
        "*   AWS Machine Learning\n",
        "\n",
        "Supporting Technologies\n",
        "\n",
        "* MXNet\n",
        "\n"
      ]
    },
    {
      "metadata": {
        "id": "85hU7hzXKSCw",
        "colab_type": "text"
      },
      "cell_type": "markdown",
      "source": [
        "## AWS Sagemaker"
      ]
    },
    {
      "metadata": {
        "id": "2ptFIFj5KZpz",
        "colab_type": "text"
      },
      "cell_type": "markdown",
      "source": [
        "[Sagemaker Features](https://aws.amazon.com/sagemaker/features/)\n",
        "\n",
        "![AWS Sagemaker](https://user-images.githubusercontent.com/58792/45426785-09a23900-b652-11e8-9ba6-4ff58a8103d5.png)\n",
        "\n",
        "\n",
        "*   Build\n",
        "\n",
        " - Preconfigured Jupyter Notebooks\n",
        " - Built in, High Performance Algorithms (Optimized petabyte-scale peformance)\n",
        " - Supports many frameworks:  MXnet, Tensorflow, sklearn\n",
        "\n",
        "\n",
        "*   Train\n",
        "\n",
        " - One click train with S3 target\n",
        " - Automatic hyperparameter tuning\n",
        " - Can scale training to clusters of machines with single line of code\n",
        "\n",
        "*   Deploy\n",
        "\n",
        "  - One click Deploy (creates HTTPS endpoint)\n",
        "  - Automatic A/B Testing\n",
        "  - Fully managed auto-scaling of inference\n",
        "  \n",
        "\n"
      ]
    },
    {
      "metadata": {
        "id": "u50fSNs-KaGc",
        "colab_type": "text"
      },
      "cell_type": "markdown",
      "source": [
        "## AWS Machine Learning"
      ]
    },
    {
      "metadata": {
        "id": "rhoSapkikDyh",
        "colab_type": "text"
      },
      "cell_type": "markdown",
      "source": [
        "[Amazon Machine Learning Service](https://aws.amazon.com/aml/)\n",
        "\n",
        "![alt text](https://user-images.githubusercontent.com/58792/45425471-53892000-b64e-11e8-8895-794014ce3702.png)\n",
        "\n",
        "**Key Features**\n",
        "\n",
        "\n",
        "*   \" makes it easy for developers of all skill levels to use machine learning technology\"\n",
        "*   Managaged ML Service\n",
        "\n",
        "\n",
        "\n",
        "\n",
        "\n",
        "**Resources**\n",
        "*   [Introduction to AWS Machine Learning Video](https://youtu.be/PAHU8tPA7xs)\n",
        "*   [Kaggle + Amazon ML Service](https://aws.amazon.com/blogs/big-data/building-a-numeric-regression-model-with-amazon-machine-learning/)\n",
        "* [amazon ml dev guide](https://docs.aws.amazon.com/machine-learning/latest/dg/what-is-amazon-machine-learning.html)\n"
      ]
    },
    {
      "metadata": {
        "id": "R8J2HtlNkSkw",
        "colab_type": "text"
      },
      "cell_type": "markdown",
      "source": [
        "## MXNet"
      ]
    },
    {
      "metadata": {
        "id": "EyYskTvYkSkx",
        "colab_type": "text"
      },
      "cell_type": "markdown",
      "source": [
        "[Open Source Docs](https://gluon.mxnet.io/)\n",
        "\n",
        "![mxnet logo](https://user-images.githubusercontent.com/58792/45424774-5e42b580-b64c-11e8-90f3-1f022fbc35e7.png)\n",
        "\n",
        "\n",
        "*  Alternative to TensorFlow\n",
        "*  Amazon Backed\n",
        "*  Integrated into Sagemaker and DeepLense\n",
        "*  Has production-ready orchestration tools:  ECS, Docker, Kubernetes \n",
        "*  Can do[ inference via AWS Lambda](https://github.com/awslabs/mxnet-lambda) \n",
        "\n",
        "**Resources**\n",
        "\n",
        "* [Serving Machine Learning Models with Apache MXNet & AWS Fargate](https://www.youtube.com/watch?v=YlUoa3hLz78)\n",
        "* [mxnet-lambda](https://github.com/awslabs/mxnet-lambda)\n",
        "\n",
        "\n",
        "\n"
      ]
    },
    {
      "metadata": {
        "id": "VNOE6ux82c48",
        "colab_type": "text"
      },
      "cell_type": "markdown",
      "source": [
        "## Demo AWS Sagemaker"
      ]
    },
    {
      "metadata": {
        "id": "hksa_zjN2c49",
        "colab_type": "text"
      },
      "cell_type": "markdown",
      "source": [
        "\n",
        "\n",
        "\n"
      ]
    },
    {
      "metadata": {
        "id": "d3zO9gCx2mw8",
        "colab_type": "text"
      },
      "cell_type": "markdown",
      "source": [
        "## Demo AWS ML Service"
      ]
    },
    {
      "metadata": {
        "id": "zjSJwCj22mw-",
        "colab_type": "text"
      },
      "cell_type": "markdown",
      "source": [
        "\n",
        "\n",
        "\n"
      ]
    },
    {
      "metadata": {
        "id": "rNLiUbJbh9Ch",
        "colab_type": "text"
      },
      "cell_type": "markdown",
      "source": [
        "## References\n"
      ]
    },
    {
      "metadata": {
        "id": "fkfk6yssiA7O",
        "colab_type": "text"
      },
      "cell_type": "markdown",
      "source": [
        "*   [Pragmatic AI: An Introduction to Cloud-Based Machine Learning-Physical Book](http://www.informit.com/store/pragmatic-ai-an-introduction-to-cloud-based-machine-9780134863917)\n",
        "*   [Pragmatic AI: Pragmatic AI: An Introduction to Cloud-Based Machine Learning-SafariOnline Book](https://www.safaribooksonline.com/library/view/pragmatic-ai-an/9780134863924/)\n",
        "*  [Essential Machine Learning and AI with Python and Jupyter Notebook-Video-SafariOnline](https://www.safaribooksonline.com/videos/essential-machine-learning/9780135261118)\n",
        "* [Essential Machine Learning and AI with Python and Jupyter Notebook- Purchase Video](http://www.informit.com/store/essential-machine-learning-and-ai-with-python-and-jupyter-9780135261095)\n",
        "*  [noahgift.com](https://noahgift.com/)\n",
        "*  [paiml.com](https://paiml.com/)\n",
        "* [Serving Machine Learning Models with Apache MXNet & AWS Fargate](https://www.youtube.com/watch?v=YlUoa3hLz78)\n",
        "* [mxnet-lambda](https://github.com/awslabs/mxnet-lambda)\n",
        "*   [Introduction to AWS Machine Learning Video](https://youtu.be/PAHU8tPA7xs)\n",
        "*   [Kaggle + Amazon ML Service](https://aws.amazon.com/blogs/big-data/building-a-numeric-regression-model-with-amazon-machine-learning/)\n",
        "* [amazon ml dev guide](https://docs.aws.amazon.com/machine-learning/latest/dg/what-is-amazon-machine-learning.html)\n",
        "* [AWS Automl](https://alexisperrier.com/aws/2017/12/04/automl_aws_data_science.html)\n",
        "\n"
      ]
    },
    {
      "metadata": {
        "id": "Mh3-LClRh-8W",
        "colab_type": "code",
        "colab": {}
      },
      "cell_type": "code",
      "source": [
        ""
      ],
      "execution_count": 0,
      "outputs": []
    }
  ]
}