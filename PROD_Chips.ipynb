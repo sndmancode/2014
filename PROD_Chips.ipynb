{
  "nbformat": 4,
  "nbformat_minor": 0,
  "metadata": {
    "colab": {
      "name": "PROD_Chips.ipynb",
      "version": "0.3.2",
      "provenance": [],
      "collapsed_sections": [
        "Hat17x80OVRW",
        "_nVTYlRzB3Z7",
        "j0uKhloSMEDx",
        "AZ_bOisXDRc5",
        "ajVQgVU4M3I_",
        "m1lzOzMCDSCo",
        "kV6wqRvSDSa8",
        "mYX45leMDSqd",
        "HkO2Ygiocd0X",
        "6JRSfoXScqc-",
        "omSTDQwaCftQ"
      ],
      "include_colab_link": true
    }
  },
  "cells": [
    {
      "cell_type": "markdown",
      "metadata": {
        "id": "view-in-github",
        "colab_type": "text"
      },
      "source": [
        "[View in Colaboratory](https://colab.research.google.com/github/sndmancode/2014/blob/master/PROD_Chips.ipynb)"
      ]
    },
    {
      "metadata": {
        "id": "Hat17x80OVRW",
        "colab_type": "text"
      },
      "cell_type": "markdown",
      "source": [
        "# Managed Machine Learning Systems and Internet of Things\n",
        "\n",
        "![hero](https://user-images.githubusercontent.com/58792/45260894-08e67a00-b3a8-11e8-941f-e539cb10f8e1.jpg)"
      ]
    },
    {
      "metadata": {
        "id": "4h6NFsfUOaUc",
        "colab_type": "text"
      },
      "cell_type": "markdown",
      "source": [
        "## Pragmatic AI Labs\n",
        "\n"
      ]
    },
    {
      "metadata": {
        "id": "kaAAnCxZTerK",
        "colab_type": "text"
      },
      "cell_type": "markdown",
      "source": [
        "![alt text](https://paiml.com/images/logo_with_slogan_white_background.png)\n",
        "\n"
      ]
    },
    {
      "metadata": {
        "id": "ELi2P3zcBWu-",
        "colab_type": "text"
      },
      "cell_type": "markdown",
      "source": [
        "This notebook was produced by [Pragmatic AI Labs](https://paiml.com/).  You can continue learning about these topics by:\n",
        "\n",
        "*   Buying a copy of [Pragmatic AI: An Introduction to Cloud-Based Machine Learning](http://www.informit.com/store/pragmatic-ai-an-introduction-to-cloud-based-machine-9780134863917)\n",
        "*   Reading an online copy of [Pragmatic AI:Pragmatic AI: An Introduction to Cloud-Based Machine Learning](https://www.safaribooksonline.com/library/view/pragmatic-ai-an/9780134863924/)\n",
        "*  Watching video [Essential Machine Learning and AI with Python and Jupyter Notebook-Video-SafariOnline](https://www.safaribooksonline.com/videos/essential-machine-learning/9780135261118) on Safari Books Online.\n",
        "* Purchasing video [Essential Machine Learning and AI with Python and Jupyter Notebook- Purchase Video](http://www.informit.com/store/essential-machine-learning-and-ai-with-python-and-jupyter-9780135261095)\n",
        "*   Viewing more content at [noahgift.com](https://noahgift.com/)"
      ]
    },
    {
      "metadata": {
        "id": "jVxkbCuXOZbg",
        "colab_type": "code",
        "colab": {}
      },
      "cell_type": "code",
      "source": [
        "\n"
      ],
      "execution_count": 0,
      "outputs": []
    },
    {
      "metadata": {
        "id": "-mhx2OUeCFFy",
        "colab_type": "text"
      },
      "cell_type": "markdown",
      "source": [
        "# Chips\n",
        "\n",
        "**Sections**\n",
        "\n",
        "\n",
        "\n",
        "*   [Introductory Concepts](https://colab.research.google.com/drive/1NYaLeH0W4X-Oj-fvM1lahky7ReL9TDDq#scrollTo=_nVTYlRzB3Z7)\n",
        "*   [Emerging Hardware AI and Managed ML Platforms](https://colab.research.google.com/drive/1NYaLeH0W4X-Oj-fvM1lahky7ReL9TDDq#scrollTo=_nVTYlRzB3Z7)\n",
        "* [CPUs](https://colab.research.google.com/drive/1NYaLeH0W4X-Oj-fvM1lahky7ReL9TDDq#scrollTo=ajVQgVU4M3I_)\n",
        "*   [TPUs](https://colab.research.google.com/drive/1NYaLeH0W4X-Oj-fvM1lahky7ReL9TDDq#scrollTo=m1lzOzMCDSCo)\n",
        "* [GPUs](https://colab.research.google.com/drive/1NYaLeH0W4X-Oj-fvM1lahky7ReL9TDDq#scrollTo=kV6wqRvSDSa8)\n",
        "* [FPGA](https://colab.research.google.com/drive/1NYaLeH0W4X-Oj-fvM1lahky7ReL9TDDq#scrollTo=mYX45leMDSqd)\n",
        "* [A11 chip](https://colab.research.google.com/drive/1NYaLeH0W4X-Oj-fvM1lahky7ReL9TDDq#scrollTo=HkO2Ygiocd0X)\n",
        "* [AWS IoT](https://colab.research.google.com/drive/1NYaLeH0W4X-Oj-fvM1lahky7ReL9TDDq#scrollTo=6JRSfoXScqc-)\n",
        "* [References](https://colab.research.google.com/drive/1NYaLeH0W4X-Oj-fvM1lahky7ReL9TDDq#scrollTo=omSTDQwaCftQ)\n",
        "\n"
      ]
    },
    {
      "metadata": {
        "id": "JUN1TVXmCdRd",
        "colab_type": "text"
      },
      "cell_type": "markdown",
      "source": [
        ""
      ]
    },
    {
      "metadata": {
        "id": "_nVTYlRzB3Z7",
        "colab_type": "text"
      },
      "cell_type": "markdown",
      "source": [
        "## Introductory Concepts in Hardware AI and IoT"
      ]
    },
    {
      "metadata": {
        "id": "mb_rCjqF2U14",
        "colab_type": "text"
      },
      "cell_type": "markdown",
      "source": [
        "### Golden Era\n",
        "\n",
        "![Golden Era of Computer Architecture](https://user-images.githubusercontent.com/58792/44999482-688cf180-af72-11e8-80ee-7c15be551bc3.png)\n",
        "\n",
        "Source: https://riscv.org/wp-content/uploads/2017/05/Mon0915-RISC-V-50-Years-Computer-Arch.pdf\n"
      ]
    },
    {
      "metadata": {
        "id": "V0Rurw6B48JV",
        "colab_type": "text"
      },
      "cell_type": "markdown",
      "source": [
        "### Amhdal's Law\n",
        "\n",
        "![Amhdal's Law](https://upload.wikimedia.org/wikipedia/commons/e/ea/AmdahlsLaw.svg)\n",
        "\n",
        "\n",
        "Source:  https://upload.wikimedia.org/wikipedia/commons/e/ea/AmdahlsLaw.svg"
      ]
    },
    {
      "metadata": {
        "id": "j0uKhloSMEDx",
        "colab_type": "text"
      },
      "cell_type": "markdown",
      "source": [
        "### ASIC vs CPU vs GPU\n",
        "\n",
        "**TPU in Production**\n",
        "![TPU Production](https://user-images.githubusercontent.com/58792/45001200-fd4a1c00-af7f-11e8-8fef-530cf2d70ada.png)\n",
        "\n",
        "**CPU**\n",
        "![How CPUs work](https://user-images.githubusercontent.com/58792/45001241-5d40c280-af80-11e8-9a82-81f900995721.png)\n",
        "\n",
        "**GPU**\n",
        "![GPUs work](https://user-images.githubusercontent.com/58792/45001287-b90b4b80-af80-11e8-9cc7-cc6d2fb2b19c.png)\n",
        "\n",
        "**TPU**\n",
        "![TPUs work](https://user-images.githubusercontent.com/58792/45001315-ef48cb00-af80-11e8-8880-aa59a272e095.png)\n",
        "\n",
        "Sources: https://storage.googleapis.com/nexttpu/index.html\n"
      ]
    },
    {
      "metadata": {
        "id": "qzFAK40HCO3E",
        "colab_type": "code",
        "colab": {}
      },
      "cell_type": "code",
      "source": [
        ""
      ],
      "execution_count": 0,
      "outputs": []
    },
    {
      "metadata": {
        "id": "AZ_bOisXDRc5",
        "colab_type": "text"
      },
      "cell_type": "markdown",
      "source": [
        "## Emerging Hardware AI and Managed ML Platforms\n",
        "\n",
        "\n",
        "Dedicated AI Hardware + Better ML Framework Cloud-Native Abstractions\n",
        "\n",
        "\n",
        "**Examples:**\n",
        "\n",
        "* AWS Sagemaker\n",
        "* AWS DeepLense\n",
        "* Google Machine Learning Engine\n",
        "* Google BigQueryML\n",
        "\n"
      ]
    },
    {
      "metadata": {
        "id": "Gp2QOI5IDRpe",
        "colab_type": "code",
        "colab": {}
      },
      "cell_type": "code",
      "source": [
        ""
      ],
      "execution_count": 0,
      "outputs": []
    },
    {
      "metadata": {
        "id": "ajVQgVU4M3I_",
        "colab_type": "text"
      },
      "cell_type": "markdown",
      "source": [
        "## CPUs\n",
        "\n",
        "\n",
        "\n",
        "*   Stuck in 3% Yearly Performance Growth\n",
        "*   Part of the Machine Learning Solution, not **THE** solution of the future\n",
        "\n"
      ]
    },
    {
      "metadata": {
        "id": "DzddaE_1M30f",
        "colab_type": "code",
        "colab": {}
      },
      "cell_type": "code",
      "source": [
        ""
      ],
      "execution_count": 0,
      "outputs": []
    },
    {
      "metadata": {
        "id": "m1lzOzMCDSCo",
        "colab_type": "text"
      },
      "cell_type": "markdown",
      "source": [
        "## TPUs\n",
        "\n",
        "\n",
        "\n",
        "\n",
        "\n"
      ]
    },
    {
      "metadata": {
        "id": "x_DA-TyN09Pr",
        "colab_type": "text"
      },
      "cell_type": "markdown",
      "source": [
        "TPU MNIST training code snippit\n",
        "\n",
        "```python\n",
        "python /usr/share/models/official/mnist/mnist_tpu.py \\\n",
        "  --tpu=$TPU_NAME \\\n",
        "  --data_dir=${STORAGE_BUCKET}/data \\\n",
        "  --model_dir=${STORAGE_BUCKET}/output \\\n",
        "  --use_tpu=True \\\n",
        "  --iterations=500 \\\n",
        "  --train_steps=2000\n",
        "```\n",
        "\n",
        "\n",
        "\n",
        "**Resources:**\n",
        "\n",
        "\n",
        "\n",
        "*   [Minst](https://cloud.google.com/tpu/docs/tutorials/mnist)\n"
      ]
    },
    {
      "metadata": {
        "id": "RrkuV-HdDSRN",
        "colab_type": "code",
        "colab": {}
      },
      "cell_type": "code",
      "source": [
        ""
      ],
      "execution_count": 0,
      "outputs": []
    },
    {
      "metadata": {
        "id": "kV6wqRvSDSa8",
        "colab_type": "text"
      },
      "cell_type": "markdown",
      "source": [
        "## GPUs \n",
        "\n"
      ]
    },
    {
      "metadata": {
        "id": "PQXy87ZQYrvi",
        "colab_type": "text"
      },
      "cell_type": "markdown",
      "source": [
        "### Nvidia GPU\n"
      ]
    },
    {
      "metadata": {
        "id": "P9AunxhpnfHz",
        "colab_type": "text"
      },
      "cell_type": "markdown",
      "source": [
        "\n",
        "![NVidia](https://user-images.githubusercontent.com/58792/45267130-a333d580-b41b-11e8-8548-5a773b381b8f.png)\n",
        "\n",
        "[Machine Learning with NVidia](https://www.nvidia.com/object/machine-learning.html)\n",
        "\n",
        "*  [Deep Learning Institute](https://www.nvidia.com/en-us/deep-learning-ai/education/)\n",
        "*   List item\n",
        "\n",
        "\n"
      ]
    },
    {
      "metadata": {
        "id": "qopTUzySDSis",
        "colab_type": "code",
        "colab": {}
      },
      "cell_type": "code",
      "source": [
        ""
      ],
      "execution_count": 0,
      "outputs": []
    },
    {
      "metadata": {
        "id": "8E7fxhfAZgmn",
        "colab_type": "text"
      },
      "cell_type": "markdown",
      "source": [
        "### AMD GPU\n",
        "\n",
        "\n",
        "\n",
        "\n"
      ]
    },
    {
      "metadata": {
        "id": "6yYvP1DGfWaK",
        "colab_type": "text"
      },
      "cell_type": "markdown",
      "source": [
        "![Radeon Instinct](https://user-images.githubusercontent.com/58792/45267237-a334d500-b41d-11e8-9097-5968c53f034c.png)\n",
        "\n",
        "![Human Brain?](https://user-images.githubusercontent.com/58792/45267301-d6c42f00-b41e-11e8-8349-ca15e5f93392.png)\n",
        "\n",
        "[AMD Deep Learning](https://www.amd.com/en/graphics/servers-radeon-instinct-deep-learning)\n",
        "\n",
        "\n",
        "\n",
        "*   [Machine Learning vs Deep Learning](https://www.amd.com/en/technologies/deep-machine-learning)\n",
        "*   [ROCm](https://rocm.github.io/index.html)\n"
      ]
    },
    {
      "metadata": {
        "id": "M3VIl1ePeBK9",
        "colab_type": "code",
        "colab": {
          "base_uri": "https://localhost:8080/",
          "height": 336
        },
        "outputId": "3d2fbefd-648c-4261-8268-745f09aa313a"
      },
      "cell_type": "code",
      "source": [
        "from IPython.display import HTML\n",
        "HTML('<iframe width=\"560\" height=\"315\" src=\"https://www.youtube.com/embed/ZSMaMKbw1y0?rel=0&amp;controls=0&amp;showinfo=0\" frameborder=\"0\" allowfullscreen></iframe>')"
      ],
      "execution_count": 0,
      "outputs": [
        {
          "output_type": "execute_result",
          "data": {
            "text/html": [
              "<iframe width=\"560\" height=\"315\" src=\"https://www.youtube.com/embed/ZSMaMKbw1y0?rel=0&amp;controls=0&amp;showinfo=0\" frameborder=\"0\" allowfullscreen></iframe>"
            ],
            "text/plain": [
              "<IPython.core.display.HTML object>"
            ]
          },
          "metadata": {
            "tags": []
          },
          "execution_count": 8
        }
      ]
    },
    {
      "metadata": {
        "id": "0qwpp7DsgRLH",
        "colab_type": "text"
      },
      "cell_type": "markdown",
      "source": [
        "### Intel"
      ]
    },
    {
      "metadata": {
        "id": "J_cbPYdPgVYI",
        "colab_type": "text"
      },
      "cell_type": "markdown",
      "source": [
        "![Intel AI Academy](https://user-images.githubusercontent.com/58792/45267399-746c2e00-b420-11e8-84de-0657e9593f78.png)\n",
        "\n",
        "![Intel Dev Cloud](https://user-images.githubusercontent.com/58792/45267467-ac27a580-b421-11e8-969f-bcca059f6536.png)\n",
        "\n",
        "[Intel AI Academy](https://software.intel.com/en-us/ai-academy)\n",
        "\n",
        "\n",
        "*   [Intel AI Academy Tensorflow Tutorial](https://software.intel.com/en-us/articles/using-tensorflow-for-deep-learning-training-and-testing)\n",
        "*   [Intel AI DevCloud](https://software.intel.com/en-us/ai-academy/devcloud)\n",
        "\n",
        "\n",
        "\n"
      ]
    },
    {
      "metadata": {
        "id": "mYX45leMDSqd",
        "colab_type": "text"
      },
      "cell_type": "markdown",
      "source": [
        "## FPGA \n"
      ]
    },
    {
      "metadata": {
        "id": "mLRLoXN2jgV4",
        "colab_type": "text"
      },
      "cell_type": "markdown",
      "source": [
        "### Amazon F1 Instances\n",
        "\n",
        "![Amazon FGPA](https://user-images.githubusercontent.com/58792/45267490-3839cd00-b422-11e8-9cb9-de0c1a559280.png)\n",
        "\n",
        "![FPGA](https://user-images.githubusercontent.com/58792/45267584-06c20100-b424-11e8-892e-9fe55a84f338.png)\n",
        "\n",
        "[Amazon EC2 F1 Instances](https://aws.amazon.com/ec2/instance-types/f1/)\n",
        "\n",
        "\n",
        "\n",
        "*   [Amazon EC2 F1 Webinar](https://youtu.be/5sDVprory3c)\n",
        "*   [Reconfigure IO](https://reconfigure.io/) A platform for software defined chips\n",
        "\n"
      ]
    },
    {
      "metadata": {
        "id": "3KaksDKBDSyD",
        "colab_type": "code",
        "colab": {
          "base_uri": "https://localhost:8080/",
          "height": 336
        },
        "outputId": "0f2a9970-f922-4784-e2cd-470f97227cb6"
      },
      "cell_type": "code",
      "source": [
        "from IPython.display import HTML\n",
        "HTML('<iframe width=\"560\" height=\"315\" src=\"https://www.youtube.com/embed/5sDVprory3c?rel=0&amp;controls=0&amp;showinfo=0\" frameborder=\"0\" allowfullscreen></iframe>')"
      ],
      "execution_count": 0,
      "outputs": [
        {
          "output_type": "execute_result",
          "data": {
            "text/html": [
              "<iframe width=\"560\" height=\"315\" src=\"https://www.youtube.com/embed/5sDVprory3c?rel=0&amp;controls=0&amp;showinfo=0\" frameborder=\"0\" allowfullscreen></iframe>"
            ],
            "text/plain": [
              "<IPython.core.display.HTML object>"
            ]
          },
          "metadata": {
            "tags": []
          },
          "execution_count": 10
        }
      ]
    },
    {
      "metadata": {
        "id": "HkO2Ygiocd0X",
        "colab_type": "text"
      },
      "cell_type": "markdown",
      "source": [
        "## A11 Chip\n",
        "\n",
        "Apple Designed Chip for iOS that includes integrated GPU and dedicated neural network hardware."
      ]
    },
    {
      "metadata": {
        "id": "PgbVUbVKtz1A",
        "colab_type": "text"
      },
      "cell_type": "markdown",
      "source": [
        "[A11 \"Neural Engine\" Chip from Apple](https://en.wikipedia.org/wiki/Apple_A11)\n",
        "![A11](https://user-images.githubusercontent.com/58792/45267788-6e7a4b00-b428-11e8-99c2-e80827961480.jpg)\n",
        "![CreateML](https://user-images.githubusercontent.com/58792/45268030-03cb0e80-b42c-11e8-9a47-b8eef57e74a6.png)\n",
        "\n",
        "\n",
        "*  [600 billion operations per second](https://www.apple.com/newsroom/2017/09/the-future-is-here-iphone-x/)\n",
        "*  [Metal for Accelerating Machine Learning](https://developer.apple.com/videos/play/wwdc2018/609/)\n",
        "*  [Introducing Create ML](https://developer.apple.com/videos/play/wwdc2018/703/)\n",
        "*  [What's New in Core ML](https://developer.apple.com/videos/play/wwdc2018/708/)\n",
        "*  [AWS Lambda + Swift](https://medium.com/capital-one-developers/serverless-computing-with-swift-f515ff052919) Tangentially related...running Swift code in AWS Lambda\n"
      ]
    },
    {
      "metadata": {
        "id": "Oaz3fzwvcd0Z",
        "colab_type": "code",
        "colab": {}
      },
      "cell_type": "code",
      "source": [
        ""
      ],
      "execution_count": 0,
      "outputs": []
    },
    {
      "metadata": {
        "id": "6JRSfoXScqc-",
        "colab_type": "text"
      },
      "cell_type": "markdown",
      "source": [
        "## AWS IoT Ecosystem\n",
        "\n"
      ]
    },
    {
      "metadata": {
        "id": "QD75VVPNyGLe",
        "colab_type": "text"
      },
      "cell_type": "markdown",
      "source": [
        "![DeepLense ](https://user-images.githubusercontent.com/58792/45337586-a6bf7d80-b53d-11e8-9796-ecef716335a8.png)\n",
        "\n",
        "Greengrass part of Embedded Machine Intelligence Platform\n",
        "\n",
        "[AWS Greengrass](https://aws.amazon.com/greengrass/)\n",
        "\n",
        "**Resource Examples:**\n",
        "\n",
        "* [DeepLens AWS Blog](https://aws.amazon.com/blogs/aws/deeplens/)"
      ]
    },
    {
      "metadata": {
        "id": "dI9IwAyfcqc_",
        "colab_type": "code",
        "colab": {}
      },
      "cell_type": "code",
      "source": [
        ""
      ],
      "execution_count": 0,
      "outputs": []
    },
    {
      "metadata": {
        "id": "omSTDQwaCftQ",
        "colab_type": "text"
      },
      "cell_type": "markdown",
      "source": [
        "## References\n",
        "\n",
        "\n",
        "*   [Pragmatic AI: An Introduction to Cloud-Based Machine Learning-Physical Book](http://www.informit.com/store/pragmatic-ai-an-introduction-to-cloud-based-machine-9780134863917)\n",
        "*   [Pragmatic AI: Pragmatic AI: An Introduction to Cloud-Based Machine Learning-SafariOnline Book](https://www.safaribooksonline.com/library/view/pragmatic-ai-an/9780134863924/)\n",
        "*  [Essential Machine Learning and AI with Python and Jupyter Notebook-Video-SafariOnline](https://www.safaribooksonline.com/videos/essential-machine-learning/9780135261118)\n",
        "* [Essential Machine Learning and AI with Python and Jupyter Notebook- Purchase Video](http://www.informit.com/store/essential-machine-learning-and-ai-with-python-and-jupyter-9780135261095)\n",
        "*  [noahgift.com](https://noahgift.com/)\n",
        "*  [paiml.com](https://paiml.com/)\n",
        "*  https://storage.googleapis.com/nexttpu/index.html\n",
        "* https://riscv.org/wp-content/uploads/2017/05/Mon0915-RISC-V-50-Years-Computer-Arch.pdf\n",
        "* https://software.intel.com/en-us/ai-academy/devcloud\n",
        "\n",
        "\n"
      ]
    },
    {
      "metadata": {
        "id": "LH0wlPXaCiBl",
        "colab_type": "code",
        "colab": {}
      },
      "cell_type": "code",
      "source": [
        ""
      ],
      "execution_count": 0,
      "outputs": []
    }
  ]
}