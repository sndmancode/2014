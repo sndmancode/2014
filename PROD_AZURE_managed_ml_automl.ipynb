{
  "nbformat": 4,
  "nbformat_minor": 0,
  "metadata": {
    "colab": {
      "name": "PROD_AZURE_managed_ml_automl.ipynb",
      "version": "0.3.2",
      "provenance": [],
      "collapsed_sections": [
        "Hat17x80OVRW",
        "clBbP1yD182S"
      ],
      "include_colab_link": true
    }
  },
  "cells": [
    {
      "cell_type": "markdown",
      "metadata": {
        "id": "view-in-github",
        "colab_type": "text"
      },
      "source": [
        "[View in Colaboratory](https://colab.research.google.com/github/sndmancode/2014/blob/master/PROD_AZURE_managed_ml_automl.ipynb)"
      ]
    },
    {
      "metadata": {
        "id": "Hat17x80OVRW",
        "colab_type": "text"
      },
      "cell_type": "markdown",
      "source": [
        "# Managed Machine Learning Systems and Internet of Things\n",
        "\n",
        "![hero](https://user-images.githubusercontent.com/58792/45260894-08e67a00-b3a8-11e8-941f-e539cb10f8e1.jpg)"
      ]
    },
    {
      "metadata": {
        "id": "4h6NFsfUOaUc",
        "colab_type": "text"
      },
      "cell_type": "markdown",
      "source": [
        "## Pragmatic AI Labs\n",
        "\n"
      ]
    },
    {
      "metadata": {
        "id": "kaAAnCxZTerK",
        "colab_type": "text"
      },
      "cell_type": "markdown",
      "source": [
        "![alt text](https://paiml.com/images/logo_with_slogan_white_background.png)\n",
        "\n",
        "This notebook was produced by [Pragmatic AI Labs](https://paiml.com/).  You can continue learning about these topics by:\n",
        "\n",
        "*   Buying a copy of [Pragmatic AI: An Introduction to Cloud-Based Machine Learning](http://www.informit.com/store/pragmatic-ai-an-introduction-to-cloud-based-machine-9780134863917)\n",
        "*   Reading an online copy of [Pragmatic AI:Pragmatic AI: An Introduction to Cloud-Based Machine Learning](https://www.safaribooksonline.com/library/view/pragmatic-ai-an/9780134863924/)\n",
        "*  Watching video [Essential Machine Learning and AI with Python and Jupyter Notebook-Video-SafariOnline](https://www.safaribooksonline.com/videos/essential-machine-learning/9780135261118) on Safari Books Online.\n",
        "* Purchasing video [Essential Machine Learning and AI with Python and Jupyter Notebook- Purchase Video](http://www.informit.com/store/essential-machine-learning-and-ai-with-python-and-jupyter-9780135261095)\n",
        "*   Viewing more content at [noahgift.com](https://noahgift.com/)"
      ]
    },
    {
      "metadata": {
        "id": "jVxkbCuXOZbg",
        "colab_type": "code",
        "colab": {}
      },
      "cell_type": "code",
      "source": [
        ""
      ],
      "execution_count": 0,
      "outputs": []
    },
    {
      "metadata": {
        "id": "lEr3vxxDh1xY",
        "colab_type": "text"
      },
      "cell_type": "markdown",
      "source": [
        "# Azure Managed and AutoML\n",
        "\n",
        "\n",
        "**Sections**\n",
        "\n",
        "\n",
        "\n",
        "*   [Overview](https://colab.research.google.com/drive/1Z2w-UgAUnHmfQxhZcgP6kkHE8dmloE8R#scrollTo=clBbP1yD182S&line=3&uniqifier=1)\n",
        "\n",
        "*   [References](https://colab.research.google.com/drive/1Z2w-UgAUnHmfQxhZcgP6kkHE8dmloE8R#scrollTo=rNLiUbJbh9Ch)\n",
        "\n"
      ]
    },
    {
      "metadata": {
        "id": "clBbP1yD182S",
        "colab_type": "text"
      },
      "cell_type": "markdown",
      "source": [
        "## Overview\n",
        "\n",
        "Auto and Managed ML Services on Azure\n",
        "\n",
        "\n",
        "![ml overview azure](https://user-images.githubusercontent.com/58792/45428482-2b9dba80-b656-11e8-986d-5a66e1ced112.png)\n",
        "\n",
        "\n"
      ]
    },
    {
      "metadata": {
        "id": "3rtjEGPr9jkQ",
        "colab_type": "text"
      },
      "cell_type": "markdown",
      "source": [
        "## Azure Machine Learning Studio"
      ]
    },
    {
      "metadata": {
        "id": "kUtp4KA59jkS",
        "colab_type": "text"
      },
      "cell_type": "markdown",
      "source": [
        "![azure ml service](https://user-images.githubusercontent.com/58792/45428097-53d8e980-b655-11e8-8523-22063639cff2.png)\n",
        "\n",
        "\n",
        "**Resources**\n",
        "\n",
        "\n",
        "\n",
        "*   [Azure Machine Learning Studio Documentation](https://docs.microsoft.com/en-us/azure/machine-learning/studio/)\n",
        "\n"
      ]
    },
    {
      "metadata": {
        "id": "VNOE6ux82c48",
        "colab_type": "text"
      },
      "cell_type": "markdown",
      "source": [
        "## Demo Azure Machine Learning Studio"
      ]
    },
    {
      "metadata": {
        "id": "hksa_zjN2c49",
        "colab_type": "text"
      },
      "cell_type": "markdown",
      "source": [
        "\n",
        "\n",
        "\n"
      ]
    },
    {
      "metadata": {
        "id": "rNLiUbJbh9Ch",
        "colab_type": "text"
      },
      "cell_type": "markdown",
      "source": [
        "## References\n"
      ]
    },
    {
      "metadata": {
        "id": "fkfk6yssiA7O",
        "colab_type": "text"
      },
      "cell_type": "markdown",
      "source": [
        "*   [Pragmatic AI: An Introduction to Cloud-Based Machine Learning-Physical Book](http://www.informit.com/store/pragmatic-ai-an-introduction-to-cloud-based-machine-9780134863917)\n",
        "*   [Pragmatic AI: Pragmatic AI: An Introduction to Cloud-Based Machine Learning-SafariOnline Book](https://www.safaribooksonline.com/library/view/pragmatic-ai-an/9780134863924/)\n",
        "*  [Essential Machine Learning and AI with Python and Jupyter Notebook-Video-SafariOnline](https://www.safaribooksonline.com/videos/essential-machine-learning/9780135261118)\n",
        "* [Essential Machine Learning and AI with Python and Jupyter Notebook- Purchase Video](http://www.informit.com/store/essential-machine-learning-and-ai-with-python-and-jupyter-9780135261095)\n",
        "*  [noahgift.com](https://noahgift.com/)\n",
        "*  [paiml.com](https://paiml.com/)\n",
        "*   [Azure Machine Learning Studio Documentation](https://docs.microsoft.com/en-us/azure/machine-learning/studio/)\n",
        "* [ml_studio_overview](http://download.microsoft.com/download/C/4/6/C4606116-522F-428A-BE04-B6D3213E9E52/ml_studio_overview_v1.1.pdf)\n",
        "\n"
      ]
    },
    {
      "metadata": {
        "id": "Mh3-LClRh-8W",
        "colab_type": "code",
        "colab": {}
      },
      "cell_type": "code",
      "source": [
        ""
      ],
      "execution_count": 0,
      "outputs": []
    }
  ]
}